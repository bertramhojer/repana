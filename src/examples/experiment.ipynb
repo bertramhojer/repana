{
 "cells": [
  {
   "cell_type": "code",
   "execution_count": 1,
   "metadata": {},
   "outputs": [
    {
     "name": "stderr",
     "output_type": "stream",
     "text": [
      "/Users/berh/.pyenv/versions/3.10.0/envs/repa/lib/python3.10/site-packages/tqdm/auto.py:21: TqdmWarning: IProgress not found. Please update jupyter and ipywidgets. See https://ipywidgets.readthedocs.io/en/stable/user_install.html\n",
      "  from .autonotebook import tqdm as notebook_tqdm\n"
     ]
    }
   ],
   "source": [
    "import json\n",
    "\n",
    "import torch\n",
    "from transformers import AutoModelForCausalLM, AutoTokenizer\n",
    "import os\n",
    "\n",
    "from myrep import ControlVector, ControlModel, DatasetEntry, Experiment"
   ]
  },
  {
   "cell_type": "code",
   "execution_count": 4,
   "metadata": {},
   "outputs": [],
   "source": [
    "model_name = \"TinyLlama/TinyLlama-1.1B-Chat-v0.6\"\n",
    "exp = Experiment(model_name=model_name, cv_type=\"pca_diff\")"
   ]
  },
  {
   "cell_type": "code",
   "execution_count": 5,
   "metadata": {},
   "outputs": [
    {
     "name": "stderr",
     "output_type": "stream",
     "text": [
      "100%|██████████| 80/80 [00:29<00:00,  2.72it/s]\n",
      "100%|██████████| 21/21 [00:01<00:00, 13.20it/s]\n"
     ]
    }
   ],
   "source": [
    "exp.run()"
   ]
  },
  {
   "cell_type": "code",
   "execution_count": 6,
   "metadata": {},
   "outputs": [
    {
     "data": {
      "text/plain": [
       "ControlVector(model_type='llama', directions={21: array([ 0.04088524, -0.04402836,  0.00450047, ...,  0.02577817,\n",
       "        0.04406174, -0.01574294], dtype=float32), 20: array([-0.04347987,  0.0560697 ,  0.00018942, ..., -0.00709876,\n",
       "       -0.03832896,  0.00859408], dtype=float32), 19: array([-0.03950077,  0.03627046,  0.00440678, ..., -0.01145815,\n",
       "       -0.04748229,  0.01621387], dtype=float32), 18: array([-0.03637234,  0.04247558, -0.00044486, ..., -0.00560009,\n",
       "       -0.03616555,  0.01471366], dtype=float32), 17: array([-0.02518823,  0.02970421, -0.00344447, ..., -0.00420439,\n",
       "       -0.03698495,  0.01987729], dtype=float32), 16: array([-0.02175151,  0.0079562 ,  0.01216128, ...,  0.0059218 ,\n",
       "       -0.03964201, -0.00085519], dtype=float32), 15: array([-0.02344091, -0.00080791,  0.03014967, ...,  0.00285482,\n",
       "       -0.03414135,  0.0046877 ], dtype=float32), 14: array([-0.02480046,  0.00154417,  0.04196418, ...,  0.00348205,\n",
       "       -0.03242376, -0.00194874], dtype=float32), 13: array([-0.02921066,  0.01114418,  0.03273614, ..., -0.00465955,\n",
       "       -0.01719515, -0.00899776], dtype=float32), 12: array([-0.02961905,  0.01513407,  0.04038878, ...,  0.02547706,\n",
       "       -0.02201005,  0.00996371], dtype=float32), 11: array([ 0.01357549, -0.00745056, -0.01051396, ...,  0.00721332,\n",
       "        0.02464467, -0.02734694], dtype=float32), 10: array([ 0.01051145, -0.01789366,  0.01144048, ..., -0.03147395,\n",
       "        0.01540172, -0.02021236], dtype=float32), 9: array([ 0.00164726,  0.01473942,  0.02946609, ...,  0.04046532,\n",
       "       -0.03110333,  0.02402674], dtype=float32), 8: array([ 0.01396424, -0.00330033,  0.0100186 , ...,  0.05348086,\n",
       "       -0.00054317, -0.01880475], dtype=float32), 7: array([-0.00647433, -0.00433319,  0.02743153, ...,  0.05485599,\n",
       "        0.00553466, -0.02925287], dtype=float32), 6: array([ 0.00882051,  0.00061371,  0.00842599, ..., -0.04567759,\n",
       "       -0.00469026, -0.00632268], dtype=float32), 5: array([ 0.00893635,  0.01310566, -0.01280211, ..., -0.00739337,\n",
       "       -0.0041283 ,  0.01926548], dtype=float32), 4: array([ 0.00793917,  0.00819249,  0.00659782, ...,  0.00145474,\n",
       "       -0.00022686,  0.01723399], dtype=float32), 3: array([0.01444598, 0.01914056, 0.02673885, ..., 0.01104376, 0.00994987,\n",
       "       0.01567866], dtype=float32), 2: array([ 0.0130906 ,  0.02363396,  0.0310673 , ...,  0.0163404 ,\n",
       "       -0.00329053, -0.00653901], dtype=float32), 1: array([ 0.00836086,  0.030351  ,  0.02269429, ...,  0.00834362,\n",
       "        0.01122153, -0.02008401], dtype=float32)})"
      ]
     },
     "execution_count": 6,
     "metadata": {},
     "output_type": "execute_result"
    }
   ],
   "source": [
    "exp.ctrl_vector"
   ]
  },
  {
   "cell_type": "code",
   "execution_count": null,
   "metadata": {},
   "outputs": [],
   "source": []
  }
 ],
 "metadata": {
  "kernelspec": {
   "display_name": "repa",
   "language": "python",
   "name": "python3"
  },
  "language_info": {
   "codemirror_mode": {
    "name": "ipython",
    "version": 3
   },
   "file_extension": ".py",
   "mimetype": "text/x-python",
   "name": "python",
   "nbconvert_exporter": "python",
   "pygments_lexer": "ipython3",
   "version": "3.10.0"
  }
 },
 "nbformat": 4,
 "nbformat_minor": 2
}
